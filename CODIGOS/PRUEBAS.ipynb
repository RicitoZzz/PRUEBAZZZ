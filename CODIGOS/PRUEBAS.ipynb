{
 "cells": [
  {
   "cell_type": "code",
   "execution_count": null,
   "metadata": {},
   "outputs": [],
   "source": [
    "pip install openpyxl"
   ]
  },
  {
   "cell_type": "code",
   "execution_count": null,
   "metadata": {},
   "outputs": [],
   "source": [
    "import openpyxl\n",
    "import os.path\n",
    "\n",
    "class Chatbot:\n",
    "    def __init__(self):\n",
    "        self.name = \"\"\n",
    "        self.last_name = \"\"\n",
    "        self.date = \"\"\n",
    "        self.file_path = \"citas.xlsx\"\n",
    "        self.wb = None\n",
    "        self.ws = None\n",
    "        \n",
    "        if os.path.isfile(self.file_path):\n",
    "            self.wb = openpyxl.load_workbook(self.file_path)\n",
    "            self.ws = self.wb.active\n",
    "        else:\n",
    "            self.wb = openpyxl.Workbook()\n",
    "            self.ws = self.wb.active\n",
    "            self.ws.append(['Nombre', 'Apellido', 'Fecha'])\n",
    "            self.wb.save(self.file_path)\n",
    "            \n",
    "    def get_name(self):\n",
    "        return self.name\n",
    "    \n",
    "    def set_name(self, name):\n",
    "        self.name = name\n",
    "    \n",
    "    def get_last_name(self):\n",
    "        return self.last_name\n",
    "    \n",
    "    def set_last_name(self, last_name):\n",
    "        self.last_name = last_name\n",
    "        \n",
    "    def get_date(self):\n",
    "        return self.date\n",
    "    \n",
    "    def set_date(self, date):\n",
    "        self.date = date\n",
    "    \n",
    "    def save_to_excel(self):\n",
    "        row = [self.name, self.last_name, self.date]\n",
    "        self.ws.append(row)\n",
    "        self.wb.save(self.file_path)\n",
    "        \n",
    "if __name__ == '__main__':\n",
    "    bot = Chatbot()\n",
    "    \n",
    "    print(\"Bienvenido al chatbot de asesorías\")\n",
    "    name = input(\"Por favor, ingrese su nombre: \")\n",
    "    bot.set_name(name)\n",
    "    last_name = input(\"Por favor, ingrese su apellido: \")\n",
    "    bot.set_last_name(last_name)\n",
    "    date = input(\"Por favor, ingrese la fecha en que desea tener la cita: \")\n",
    "    bot.set_date(date)\n",
    "    bot.save_to_excel()\n",
    "    print(\"La información ha sido guardada exitosamente en el archivo citas.xlsx\")\n"
   ]
  },
  {
   "cell_type": "code",
   "execution_count": null,
   "metadata": {},
   "outputs": [],
   "source": []
  },
  {
   "cell_type": "code",
   "execution_count": null,
   "metadata": {},
   "outputs": [],
   "source": []
  },
  {
   "cell_type": "code",
   "execution_count": null,
   "metadata": {},
   "outputs": [],
   "source": [
    "pip install PyQt5"
   ]
  },
  {
   "cell_type": "code",
   "execution_count": 1,
   "metadata": {},
   "outputs": [
    {
     "ename": "SystemExit",
     "evalue": "0",
     "output_type": "error",
     "traceback": [
      "An exception has occurred, use %tb to see the full traceback.\n",
      "\u001b[1;31mSystemExit\u001b[0m\u001b[1;31m:\u001b[0m 0\n"
     ]
    },
    {
     "name": "stderr",
     "output_type": "stream",
     "text": [
      "C:\\Users\\Hi\\AppData\\Roaming\\Python\\Python311\\site-packages\\IPython\\core\\interactiveshell.py:3513: UserWarning: To exit: use 'exit', 'quit', or Ctrl-D.\n",
      "  warn(\"To exit: use 'exit', 'quit', or Ctrl-D.\", stacklevel=1)\n"
     ]
    }
   ],
   "source": [
    "import sys\n",
    "from PyQt5.QtWidgets import QApplication, QMainWindow, QLabel, QGridLayout, QWidget, QPushButton, QLineEdit\n",
    "\n",
    "class MainWindow(QMainWindow):\n",
    "    def __init__(self):\n",
    "        super().__init__()\n",
    "        self.initUI()\n",
    "        \n",
    "    def initUI(self):\n",
    "        self.setWindowTitle('Chatbot de Asesorías')\n",
    "        self.setGeometry(100, 100, 400, 200)\n",
    "        \n",
    "        # Crear los widgets para ingresar información\n",
    "        nombre_label = QLabel('Nombre:')\n",
    "        self.nombre_input = QLineEdit()\n",
    "        apellido_label = QLabel('Apellido:')\n",
    "        self.apellido_input = QLineEdit()\n",
    "        fecha_label = QLabel('Fecha de la cita:')\n",
    "        self.fecha_input = QLineEdit()\n",
    "        \n",
    "        # Crear el botón para guardar la información\n",
    "        guardar_btn = QPushButton('Guardar')\n",
    "        guardar_btn.clicked.connect(self.guardar_informacion)\n",
    "        \n",
    "        # Crear la grilla para ordenar los widgets\n",
    "        grid = QGridLayout()\n",
    "        grid.addWidget(nombre_label, 0, 0)\n",
    "        grid.addWidget(self.nombre_input, 0, 1)\n",
    "        grid.addWidget(apellido_label, 1, 0)\n",
    "        grid.addWidget(self.apellido_input, 1, 1)\n",
    "        grid.addWidget(fecha_label, 2, 0)\n",
    "        grid.addWidget(self.fecha_input, 2, 1)\n",
    "        grid.addWidget(guardar_btn, 3, 1)\n",
    "        \n",
    "        # Crear el widget principal y agregar la grilla\n",
    "        widget = QWidget()\n",
    "        widget.setLayout(grid)\n",
    "        self.setCentralWidget(widget)\n",
    "        \n",
    "    def guardar_informacion(self):\n",
    "        # Obtener los valores de los campos de entrada\n",
    "        nombre = self.nombre_input.text()\n",
    "        apellido = self.apellido_input.text()\n",
    "        fecha = self.fecha_input.text()\n",
    "        \n",
    "        # Guardar la información en un archivo Excel\n",
    "        import os.path\n",
    "        import pandas as pd\n",
    "\n",
    "        file_name = \"citas3.xlsx\"\n",
    "\n",
    "        try:\n",
    "            df = pd.read_excel(file_name)\n",
    "        except FileNotFoundError:\n",
    "            df = pd.DataFrame(columns=[\"Nombre\", \"Apellido\", \"Fecha de cita\"])\n",
    "            df.to_excel(file_name, index=False)\n",
    "\n",
    "\n",
    "        \n",
    "        # Limpiar los campos de entrada\n",
    "        self.nombre_input.setText('')\n",
    "        self.apellido_input.setText('')\n",
    "        self.fecha_input.setText('')\n",
    "\n",
    "if __name__ == '__main__':\n",
    "    app = QApplication(sys.argv)\n",
    "    window = MainWindow()\n",
    "    window.show()\n",
    "    sys.exit(app.exec_())\n"
   ]
  }
 ],
 "metadata": {
  "kernelspec": {
   "display_name": "Python 3",
   "language": "python",
   "name": "python3"
  },
  "language_info": {
   "codemirror_mode": {
    "name": "ipython",
    "version": 3
   },
   "file_extension": ".py",
   "mimetype": "text/x-python",
   "name": "python",
   "nbconvert_exporter": "python",
   "pygments_lexer": "ipython3",
   "version": "3.11.1"
  },
  "orig_nbformat": 4
 },
 "nbformat": 4,
 "nbformat_minor": 2
}
